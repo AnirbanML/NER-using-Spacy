{
 "cells": [
  {
   "cell_type": "code",
   "execution_count": 1,
   "id": "c165da93",
   "metadata": {},
   "outputs": [
    {
     "name": "stderr",
     "output_type": "stream",
     "text": [
      "/data/mmortgage/NERAPI/NER/lib/python3.8/site-packages/tqdm/auto.py:22: TqdmWarning: IProgress not found. Please update jupyter and ipywidgets. See https://ipywidgets.readthedocs.io/en/stable/user_install.html\n",
      "  from .autonotebook import tqdm as notebook_tqdm\n"
     ]
    }
   ],
   "source": [
    "import re\n",
    "import spacy\n",
    "import string\n",
    "from configparser import ConfigParser\n",
    "\n",
    "config = ConfigParser()\n",
    "config.read('config.ini')\n",
    "nerModel = spacy.load('./NER_model')\n",
    "\n",
    "\n",
    "def textfilter(txt):\n",
    "    chars = re.escape(string.punctuation)\n",
    "    return (re.sub(r'[' + chars + ']', '', txt.lower()))\n",
    "\n",
    "\n",
    "def compare(text1, text2):\n",
    "    cnt = 0\n",
    "    for i in text1.split(' '):\n",
    "        for j in text2.split(' '):\n",
    "            if i == j:\n",
    "                cnt += 1\n",
    "    if cnt == len(text1.split(' ')):\n",
    "        return True\n",
    "    else:\n",
    "        return False\n",
    "\n",
    "\n",
    "def filtersimilar(txt):\n",
    "    i = 0\n",
    "    while i < len(txt) - 1:\n",
    "        text1 = textfilter(txt[i])\n",
    "        j = i + 1\n",
    "        flag = 0\n",
    "        while j < len(txt):\n",
    "            text2 = textfilter(txt[j])\n",
    "            if len(text1) <= len(text2):\n",
    "                if compare(text1, text2):\n",
    "                    del txt[i]\n",
    "                    flag = 1\n",
    "            else:\n",
    "                if compare(text2, text1):\n",
    "                    del txt[j]\n",
    "                    flag = 1\n",
    "\n",
    "            if flag == 1:\n",
    "                i = 0\n",
    "                break\n",
    "            else:\n",
    "                j = j + 1\n",
    "        i=i+1\n",
    "\n",
    "    return txt\n",
    "\n",
    "def getNamedEntity(text):\n",
    "    \n",
    "    txt = re.sub(r'[0-9]','',text)\n",
    "    doc = nerModel(txt)\n",
    "    tempORG = []\n",
    "    tempPERSON = []\n",
    "    for ent in doc.ents:\n",
    "        if ent.label_ == 'ORG':\n",
    "            tempORG.append(ent.text)\n",
    "        if(ent.label_=='PERSON'):\n",
    "            tempPERSON.append(ent.text)\n",
    "    #print(tempORG)\n",
    "    tempORG = list(set(tempORG))\n",
    "    tempPERSON = list(set(tempPERSON))\n",
    "\n",
    "    tempORG = filtersimilar(tempORG)\n",
    "    tempPERSON = filtersimilar(tempPERSON)\n",
    "    \n",
    "    PERSON = []\n",
    "    for person in tempPERSON:\n",
    "        if len(tempPERSON)>0:\n",
    "            temp = dict()\n",
    "            index_txt = get_index(person, text)\n",
    "            temp['index']= index_txt[0]\n",
    "            temp['value']= index_txt[1]\n",
    "            PERSON.append(temp)\n",
    "    \n",
    "    ORG = []\n",
    "    for org in tempORG:\n",
    "        if len(tempORG)>0:\n",
    "            temp = dict()\n",
    "            index_txt = get_index(org, text)\n",
    "            temp['index']= index_txt[0]\n",
    "            temp['value']= index_txt[1]\n",
    "            ORG.append(temp)\n",
    "\n",
    "    returnvalue = {}\n",
    "    if(len(tempORG)>0):\n",
    "        returnvalue['ORG']= ORG\n",
    "    else:\n",
    "        returnvalue['ORG']=None\n",
    "        \n",
    "    if(len(tempPERSON)>0):\n",
    "        returnvalue['PERSON']= PERSON\n",
    "    else:\n",
    "        returnvalue['PERSON']= None\n",
    "    \n",
    "    return returnvalue"
   ]
  },
  {
   "cell_type": "code",
   "execution_count": 2,
   "id": "c87cf159",
   "metadata": {},
   "outputs": [],
   "source": [
    "def get_index(txt2find, txt):\n",
    "      \n",
    "    for i,character in enumerate(txt):\n",
    "        flag=0\n",
    "        start=0\n",
    "        temp=''\n",
    "        if character == txt2find[0]:\n",
    "            start = i\n",
    "            j=i\n",
    "            k=0\n",
    "            while k<len(txt2find):\n",
    "                if((txt[j]==txt2find[k])&(j<len(txt)-1)):\n",
    "                    temp=temp+txt[j]\n",
    "                    j=j+1\n",
    "                    k=k+1\n",
    "                    flag=1\n",
    "                else:\n",
    "                    flag=0\n",
    "                    end=j\n",
    "                    break\n",
    "        if ((flag==1)&(len(temp)==len(txt2find))):\n",
    "            return([start, start+len(temp)],txt2find)\n",
    "    return(None)"
   ]
  },
  {
   "cell_type": "code",
   "execution_count": 4,
   "id": "88696114",
   "metadata": {},
   "outputs": [],
   "source": [
    "import json\n",
    "with open('./OCR_Files/11072554.txt', 'r') as f:\n",
    "    data = json.loads(f.read())"
   ]
  },
  {
   "cell_type": "code",
   "execution_count": 5,
   "id": "d215d3b4",
   "metadata": {},
   "outputs": [
    {
     "name": "stdout",
     "output_type": "stream",
     "text": [
      " Company Code Loc/Dept Number Page KD / EQK 25088257 01/100 1769505 1 of 1 Earnings Statement ADP Masters Smith & Wisby PA 4811 Beach Blvd Ste 300 Period Starting: 02/15/2021 Jacksonville, FL 32207-4867 Period Ending: 02/27/2021 Pay Date: 02/26/2021 Taxable Marital Status: Single Exemptions/Allowances; Tax Override: Federal: 15 Federal: Gary M Huggett 700.00 Flat State: 0 State: 120 29Th Avenue South Local: Local: Jacksonville Beach, FL 32250 Social Security Number: xxx-xx-XXXX Eamings rate hours/units this period year to date Regular 0.00 5250.00 21000.00 Gross Pay $5,250.00 $21,000.00 Deposits Statutory Deductions this period year to date account number transit/ABA amount Federal Income -700.00 2800.00 XXXXXX1875 xxxxxxxxX 3660.22 Social Security -313.87 1255.50 Medicare -73.41 293.63 Voluntary Deductions this period year to date *SIMPLE IRA $ -315.00 1260.00 *HSA CAF125 pre-tax $ -187.50 750.00 Net Pay $3,660.22 Your federal taxable wages this period are $4,747.50 Excluded from Federal taxable wages Masters Smith & Wisby PA 4811 Beach Blvd Ste 300 Jacksonville, FL 32207-4867 Pay Date: 02/26/2021 Deposited to the account account number transit/ABA amount Checking DirectDeposit xxxxXXXXX 3660.22 Gary M Huggett 120 29Th Avenue South Jacksonville Beach, FL 32250 Company Code Loc/Dept Number Page KD / EQK 25088257 01/100 1737769 1 of 1 Earnings Statement ADP Masters Smith & Wisby PA 4811 Beach Blvd Ste 300 Period Starting: 01/30/2021 Jacksonville, FL 32207-4867 Period Ending: 02/14/2021 Pay Date: 02/12/2021 Taxable Marital Status: Single Exemptions/Allowances: Tax Override: Gary M Huggett Federal: 15 Federal: 700.00 Flat State: 0 State: 120 29Th Avenue South Local: Local: Jacksonville Beach, FL 32250 Social Security Number: xxx-xx-XXXX Eamings rate hours/units this period year to date Regular 0.00 5250.00 15750.00 Gross Pay $5,250.00 $15,750.00 Deposits Statutory Deductions this period year to date - account number transit/ABA amount Federal Income -700.00 2100.00 XXXXXX1875 xxxxxxxXX 3660.21 Social Security -313.88 941.63 Medicare -73.41 220.22 Voluntary Deductions this period year to date *SIMPLE IRA $ -315.00 945.00 *HSA CAF125 pre-tax $ -187.50 562.50 Net Pay 3,660.21 Your federal taxable wages this period are $4,747.50 Excluded from Federal taxable wages Masters Smith & Wisby PA 4811 Beach Blvd Ste 300 Jacksonville, FL 32207-4867 Pay Date: 02/12/2021 Deposited to the account account number is e transit/ABA amount Checking DirectDeposit NO XXXXXXX875 XXXXXXXXX 3660.21 Gary M Huggett 120 29Th Avenue South Jacksonville Beach, FL 32250\n"
     ]
    },
    {
     "data": {
      "text/plain": [
       "{'ORG': [{'index': [98, 122], 'value': 'Masters Smith & Wisby PA'}],\n",
       " 'PERSON': [{'index': [339, 353], 'value': 'Gary M Huggett'}]}"
      ]
     },
     "execution_count": 5,
     "metadata": {},
     "output_type": "execute_result"
    }
   ],
   "source": [
    "txt = ''\n",
    "for pages in data['analyzeResult']['readResults']:\n",
    "    for line in pages['lines']:\n",
    "        txt = txt+' '+line['text']\n",
    "print(txt)\n",
    "getNamedEntity(txt)"
   ]
  },
  {
   "cell_type": "code",
   "execution_count": 6,
   "id": "ea12675f",
   "metadata": {},
   "outputs": [],
   "source": [
    "txt = \"\"\"44444 For Official Use Only Safe, accurate, Tse file Visit the IRS website OMB No. 1545-0008 FAST! Use at www.irs.gov. a Employer’s name, \n",
    "address, and ZIP code c Tax year/Form corrected d Employee’s correct SSN FACET WEALTH INC FACET WEALTH INC 2020 / W-2 210-56-2343 509 S \n",
    "EXETER ST STE 202 e Corrected SSN and/or name (Check this box and complete boxes f and/or BALTIMORE MD 21202 g if incorrect on form \n",
    "previously filed.) Complete boxes f and/or g only if incorrect on form previously filed f Employee’s previously reported SSN b \n",
    "Employer's Federal EIN g Employee’s previously reported name 81-3453207 h Employee’s first name and initial Last name Suff. \n",
    "DANIELLE COLE Note. Only complete money fields that are being corrected (exception: for 5706 S. INDIANAPOLIS AVE. corrections involving MQGE, \n",
    "see the General Instructions for Forms W-2 TULSA, OK 74135 and W-3, under Specific Instructions for Form W-2c, boxes 5 and 6). \n",
    "i Employee’s address and ZIP code Previously reported Correct information Previously reported Correct information 1 Wages, tips, \n",
    "other compensation 1 Wages, tips, other compensation 2 Federal income tax withheld 2 Federal income tax withheld 103016.61 103430.46 3 \n",
    "Social security wages 3 Social security wages 4 Social security tax withheld 4 Social security tax withheld 122516.61 122930.46 7596.03 \n",
    "7621.69 5 Medicare wages and tips 5 Medicare wages and tips 6 Medicare tax withheld 6 Medicare tax withheld 122516.61 122930.46 1776.49 \n",
    "1782.49 7 Social security tips 7 Social security tips 8 Allocated tips 8 Allocated tips 9 9 10 Dependent care benefits 10 Dependent care \n",
    "benefits 11 Nonqualified plans 11 Nonqualified plans 12a See instructions for box 12 12a See instructions for box 12 C C d o o d 13 \n",
    "Statutory Retirement Third-party 13 Statutory Retirement Third-party 12b e 12b e employee plan sick pay employee plan sick \n",
    "pay C C o o d d e e 14 Other (see instructions) 14 Other (see instructions) 12c C 12c C o o d d e e 12d 12d o C o C e d d e \n",
    "State Correction Information Previously reported Correct information Previously reported Correct information 15 State 15 State 15 State 15 \n",
    "State OK OK Employer’s state ID number Employer’s state ID number Employer’s state ID number Employer’s state ID number \n",
    "WTH-15489585-02 WTH-15489585-02 16 State wages, tips, etc. 16 State wages, tips, etc. 16 State wages, tips, etc. 16 State wages, tips, etc. \n",
    "34929.67 35343.52 17 State income tax 17 State income tax 17 State income tax 17 State income tax Locality Correction Information \n",
    "Previously reported Correct information Previously reported Correct information 18 Local wages, tips, etc. 18 Local wages, tips, etc. \n",
    "18 Local wages, tips, etc. 18 Local wages, tips, etc. 19 Local income tax 19 Local income tax 19 Local income tax 19 Local income tax 20 \n",
    "Locality name 20 Locality name 20 Locality name 20 Locality name Copy B—To Be Filed with Employee’s FEDERAL Tax Return Form W-2c (Rev. 8-2014) \n",
    "Corrected Wage and Tax Statement Department of the Treasury Internal Revenue Service\"\"\""
   ]
  },
  {
   "cell_type": "code",
   "execution_count": 7,
   "id": "08a763c1",
   "metadata": {},
   "outputs": [
    {
     "data": {
      "text/plain": [
       "{'ORG': [{'index': [212, 228], 'value': 'FACET WEALTH INC'}],\n",
       " 'PERSON': [{'index': [662, 675], 'value': 'DANIELLE COLE'}]}"
      ]
     },
     "execution_count": 7,
     "metadata": {},
     "output_type": "execute_result"
    }
   ],
   "source": [
    "getNamedEntity(txt)"
   ]
  },
  {
   "cell_type": "markdown",
   "id": "c501235f",
   "metadata": {},
   "source": [
    "### Azure Blob"
   ]
  },
  {
   "cell_type": "code",
   "execution_count": 1,
   "id": "f5021d57",
   "metadata": {},
   "outputs": [],
   "source": [
    "from azure.storage.blob import BlockBlobService"
   ]
  },
  {
   "cell_type": "code",
   "execution_count": 2,
   "id": "d71d6e18",
   "metadata": {},
   "outputs": [],
   "source": [
    "ACCOUNT_NAME = \"saacedeveastinput\"\n",
    "ACCOUNT_KEY = \"RhJlnL3AloZbVZ48ENuRlYPBKCab1Wsoc94mbESIxtAmoI5ep3pxaTYhXgyAmDpvtPMpRbtJfV3A7YKKWSbKlQ==;EndpointSuffix=core.windows.net\"\n",
    "CONTAINER_NAME = \"input\""
   ]
  },
  {
   "cell_type": "code",
   "execution_count": 7,
   "id": "340e4e98",
   "metadata": {},
   "outputs": [
    {
     "name": "stdout",
     "output_type": "stream",
     "text": [
      "ADR-2022-200000004738/LoanMetaData.txt\n",
      "ADR-2022-200000004738/Page-1.webp\n",
      "ADR-2022-200000004738/pension_statement_27017.pdf\n"
     ]
    }
   ],
   "source": [
    "referenceNo = 'ADR-2022-200000004738'\n",
    "block_blob_service = BlockBlobService(account_name=ACCOUNT_NAME, account_key=ACCOUNT_KEY)\n",
    "for file in block_blob_service.list_blobs(CONTAINER_NAME, referenceNo):\n",
    "    print(file.name)"
   ]
  },
  {
   "cell_type": "code",
   "execution_count": null,
   "id": "31884d3c",
   "metadata": {},
   "outputs": [],
   "source": []
  }
 ],
 "metadata": {
  "kernelspec": {
   "display_name": "NER",
   "language": "python",
   "name": "ner"
  },
  "language_info": {
   "codemirror_mode": {
    "name": "ipython",
    "version": 3
   },
   "file_extension": ".py",
   "mimetype": "text/x-python",
   "name": "python",
   "nbconvert_exporter": "python",
   "pygments_lexer": "ipython3",
   "version": "3.8.0"
  }
 },
 "nbformat": 4,
 "nbformat_minor": 5
}
