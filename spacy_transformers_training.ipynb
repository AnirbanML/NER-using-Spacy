{
 "cells": [
  {
   "cell_type": "code",
   "execution_count": 1,
   "id": "944f7040",
   "metadata": {},
   "outputs": [
    {
     "name": "stderr",
     "output_type": "stream",
     "text": [
      "/data/mmortgage/NERAPI/NER/lib/python3.8/site-packages/tqdm/auto.py:22: TqdmWarning: IProgress not found. Please update jupyter and ipywidgets. See https://ipywidgets.readthedocs.io/en/stable/user_install.html\n",
      "  from .autonotebook import tqdm as notebook_tqdm\n"
     ]
    }
   ],
   "source": [
    "import spacy\n",
    "import json\n",
    "from spacy import displacy\n",
    "import re\n",
    "import pandas as pd\n",
    "from configparser import ConfigParser\n",
    "import string"
   ]
  },
  {
   "cell_type": "code",
   "execution_count": 2,
   "id": "a01b822c",
   "metadata": {},
   "outputs": [],
   "source": [
    "# def get_annotation(file):\n",
    "    \n",
    "#     filename,ents= file\n",
    "#     #print(filename)\n",
    "#     data = json.load(open('./OCR_Files/'+filename, encoding=\"utf-8\"))\n",
    "#     txt = ''\n",
    "#     annotations=[]\n",
    "#     for pages in data['analyzeResult']['readResults']:\n",
    "#         txt=''\n",
    "#         for line in pages['lines']:\n",
    "#             txt = txt+' '+line['text']\n",
    "#         #print(txt,'\\n\\n')\n",
    "#         para = txt\n",
    "#         txt = txt.lower()\n",
    "#         ner_tag = {}\n",
    "#         tags=[]\n",
    "#         for ent in ents:\n",
    "#             txt2find,tag = ent\n",
    "#             txt2find = txt2find.lower()\n",
    "#             start=0\n",
    "#             for i,character in enumerate(txt):\n",
    "#                 flag=0\n",
    "#                 temp=''\n",
    "#                 if character == txt2find[0]:\n",
    "#                     start = i\n",
    "#                     j=i\n",
    "#                     k=0\n",
    "#                     while((k<len(txt2find))&(j<len(txt)-1)):\n",
    "#                         if(txt[j]==txt2find[k]):\n",
    "#                             temp=temp+txt[j]\n",
    "#                             j=j+1\n",
    "#                             k=k+1\n",
    "#                         elif(txt2find[k] in string.punctuation):\n",
    "#                             k=k+1\n",
    "#                         elif(txt[j] in string.punctuation):\n",
    "#                             temp=temp+txt[j]\n",
    "#                             j=j+1\n",
    "#                         else:\n",
    "#                             end=j\n",
    "#                             break\n",
    "#                 if ((len(temp)>=len(txt2find))):\n",
    "#                     tags.append((start, start+len(temp),tag))\n",
    "#         if len(tags)!=0:\n",
    "#             ner_tag['entities'] = tags\n",
    "#             annotations.append((para,ner_tag))\n",
    "#     return(annotations)"
   ]
  },
  {
   "cell_type": "code",
   "execution_count": 3,
   "id": "50862de9",
   "metadata": {},
   "outputs": [],
   "source": [
    "# from ast import literal_eval\n",
    "# annotations = []\n",
    "# with open('./train_both.txt', 'r', encoding=\"utf-8\") as f:\n",
    "#     data = f.read().split(',\\n')\n",
    "# for d in data:\n",
    "#     #print(literal_eval(d))\n",
    "#     annotations.append(literal_eval(d))\n",
    "# len(annotations)"
   ]
  },
  {
   "cell_type": "code",
   "execution_count": 4,
   "id": "50fc2b14",
   "metadata": {},
   "outputs": [],
   "source": [
    "# annotations[340]"
   ]
  },
  {
   "cell_type": "code",
   "execution_count": 5,
   "id": "4311df12",
   "metadata": {},
   "outputs": [],
   "source": [
    "# SAMPLES = []\n",
    "# length = []\n",
    "# count = 0\n",
    "# i=0\n",
    "# for annot in annotations:\n",
    "#     #print(i)\n",
    "#     i=i+1\n",
    "#     entities = []\n",
    "#     for entries in annot[1]:\n",
    "#         entities.append(entries[1])\n",
    "#     entities = list(set(entities))\n",
    "    \n",
    "#     try:\n",
    "#         annotation = get_annotation(annot)\n",
    "#         if len(annotation)!=0:\n",
    "#             SAMPLES = SAMPLES + annotation\n",
    "#         else:\n",
    "#             count=count+1\n",
    "#             #print(annot[0])\n",
    "#     except FileNotFoundError:\n",
    "#         pass\n",
    "# print('Total samples ->', len(SAMPLES))\n",
    "# print('Total no match found ->', count)"
   ]
  },
  {
   "cell_type": "code",
   "execution_count": null,
   "id": "97027625",
   "metadata": {},
   "outputs": [],
   "source": []
  },
  {
   "cell_type": "code",
   "execution_count": 97,
   "id": "06c506d6",
   "metadata": {},
   "outputs": [
    {
     "data": {
      "text/plain": [
       "0    ('Regions Bank Sandlake & Bay Hill 8061 Via De...\n",
       "1    ('USAA® USAA Federal Savings Bank 10750 McDerm...\n",
       "2    ('Aug 19 2022 02:56PM HP Fax page 2 CENTURY CR...\n",
       "3    ('Page 1 of 3 NAVY O FEDERAL Credit Union PO B...\n",
       "4    ('First Security Bank FSB LENGER MEMBER FDIC C...\n",
       "Name: NER, dtype: object"
      ]
     },
     "execution_count": 97,
     "metadata": {},
     "output_type": "execute_result"
    }
   ],
   "source": [
    "df = pd.read_csv('./ner.csv')\n",
    "df['NER'].head()"
   ]
  },
  {
   "cell_type": "code",
   "execution_count": 106,
   "id": "3e8302f6",
   "metadata": {},
   "outputs": [],
   "source": [
    "import ast\n",
    "\n",
    "SAMPLES = []\n",
    "count=0\n",
    "for value in df['NER'].values:\n",
    "    if len(ast.literal_eval(value)[1]['entities'])!=0:\n",
    "        SAMPLES.append(ast.literal_eval(value))"
   ]
  },
  {
   "cell_type": "code",
   "execution_count": 107,
   "id": "a03700c5",
   "metadata": {},
   "outputs": [
    {
     "data": {
      "text/plain": [
       "131"
      ]
     },
     "execution_count": 107,
     "metadata": {},
     "output_type": "execute_result"
    }
   ],
   "source": [
    "len(SAMPLES)"
   ]
  },
  {
   "cell_type": "markdown",
   "id": "5c311937",
   "metadata": {},
   "source": [
    "### Spacy input format"
   ]
  },
  {
   "cell_type": "code",
   "execution_count": 108,
   "id": "7cef390f",
   "metadata": {},
   "outputs": [
    {
     "data": {
      "text/plain": [
       "('Aug 19 2022 02:56PM HP Fax page 2 CENTURY CREDIT UNION centurycu.org Member Statement Account Number: 0318579000 Statement Period: 09/01/2020 to 12/31/2020 1540 Lemay Ferry Road Saint Louis, MO 63125 Phone: 1-400-880-0640 | www.camrycu.org Page 1 of 2 RETURN SERVICE REQUESTED CHAD R BRADLEY 409 WEST 6TH ST PORTAGEVILLE MO 63873 ACCOUNT SUMMARY Shares Starting Balance Total Deposits Total Withdrawals 0001 PRIMARY SAVINGS 25.00 0.00 0.00 0080 ESCROW SAVINGS 818.03 628.29 -892.23 Loans Total Payments Starting Balance Total Advances 0001 USED AUTO 9,905.01 1,080.00 0.00 0050 30 YEAR FIRST MORTGAGE ESCROW 127,630.56 2,700.00 0.00 ID 0001 - PRIMARY SAVINGS Dividends Paid YTD: 0.00 Date Transaction Description Withdrawal Deposit Balance 09/01/2020 Balance Forward 25.0 12/31/2020 Ending Balance 25.00 ID 0080 - ESCROW SAVINGS Dividends Paid YTD: 0.00 Date Transaction Description Amount Principal Charge Fee Balance Balance Forward 10/01/2020 9,905.01 10/27/2020 Payments by Check -360.00 -319.04 15.00 25.9 9,585.97 Payments by Check 11/25/2020 -322.23 -360.00 22.77 15.00 9,263.74 Payments by Check 12/28/2020 -319.96 25.04 -360.00 15.00 8,943.78 12/31/2020 Ending Balance 8,943.78 A payment of 360.00 Is due on December 28, 2020 ID 0050 30 YEAR FIRST MORTGAGE ESCROW Interest Paid YTD: 5,830.78 Interest Charge Date Balance Forward 10/01/2020 Transaction Description Amount Principal Fee Balance 127,530.56 Ending Balance 25.00 354.09 Ending Balance 8,943.78 127,530.56 Date Transaction Description Withdrawal Deposit Balance 10/01/2020 Balance Forward 628.29 10/27/2020 Deposit Escrow-Loan 0050 206.01 834.30 Deposit Escrow-Loan 0050 11/25/2020 206.01 1,040.31 12/01/2020 Escrow Property Taxes -173.31 867.00 12/01/2020 Escrow Property Taxes 718.92 148.08 12/28/2020 Deposit Escrow-Loan 0050 206.01 354.09 12/31/2020 Ending Balance 354.09 2 Withdrawals = - 892.23 3 Deposits= 618.03 ID 0001 USED AUTO Interest Paid YTD: 309.14 Annual Percentage Rate: 2.990% Daily Periodic Rate .008191% Interest Annual Percentage Rate: 4.750% Dally Periodic Rate .013013%',\n",
       " {'entities': [(34, 54, 'ORG'), (277, 291, 'PERSON'), (292, 329, 'ADDRESS')]})"
      ]
     },
     "execution_count": 108,
     "metadata": {},
     "output_type": "execute_result"
    }
   ],
   "source": [
    "SAMPLES[2]"
   ]
  },
  {
   "cell_type": "markdown",
   "id": "2e9ee5a2",
   "metadata": {},
   "source": [
    "### TRAIN TEST SPLIT ***"
   ]
  },
  {
   "cell_type": "code",
   "execution_count": 109,
   "id": "ae98a86f",
   "metadata": {},
   "outputs": [],
   "source": [
    "import random\n",
    "random.shuffle(SAMPLES)"
   ]
  },
  {
   "cell_type": "code",
   "execution_count": 110,
   "id": "47d8c603",
   "metadata": {},
   "outputs": [],
   "source": [
    "TRAIN_DATA = SAMPLES[:80]\n",
    "VAL_DATA = SAMPLES[81:101]\n",
    "TEST_DATA = SAMPLES[101:136]"
   ]
  },
  {
   "cell_type": "code",
   "execution_count": 111,
   "id": "bd8a0b3e",
   "metadata": {},
   "outputs": [
    {
     "data": {
      "text/plain": [
       "('USAA® USAA Federal Savings Bank 10750 McDermott Freeway San Antonio, TX 78288-0544 USAA CLASSIC CHECKING for Account Number: 0158116623 Statement Period: 07/29/2022 to 08/30/2022 PATRICK J BURK SUZANNE P BURK 444 DEVERAUX DR WILMINGTON NC 28412 Activity Summary $6,832.68 $11,429.19 $15,573.55 Beginning Balance 7 Deposits/Credits Service Charges and ATM Service Fee Ending Balance $2,688.32 Total For This Period Total Year-to-Date Fee Total Overdraft (OD) Fees N/A N/A Total Non-Sufficient Funds (NSF) Fees $0.00 $0.00 Note: Fee reversals/refunds will not be reflected in this table. They will be listed in the transaction section below. Note: Transactions occurring on the first day and last day of the statement cycle are included in this statement. Transactions Description Debits Credits Date Balance 07/29 Beginning Balance $6,832.68 07/29 ACH DEP 080122 $152.64 $6,985.32 VACP TREAS 310 XXVA BENEF .... **** 3600 $6,978.69 07/29 POS DEBIT 072922 5411072922 $6.63 FOOD LION #1404 3905 I WILMINGTON NC continued on next page>>> 133293-0121 FDIC INSURED Page 1 of 10 129 Withdrawals/Debits $0.00',\n",
       " {'entities': [(6, 31, 'ORG'), (179, 193, 'PERSON'), (194, 208, 'PERSON')]})"
      ]
     },
     "execution_count": 111,
     "metadata": {},
     "output_type": "execute_result"
    }
   ],
   "source": [
    "TEST_DATA[1]"
   ]
  },
  {
   "cell_type": "code",
   "execution_count": 112,
   "id": "e8547f61",
   "metadata": {},
   "outputs": [
    {
     "name": "stdout",
     "output_type": "stream",
     "text": [
      "no. of train samples:  80\n",
      "no. of val samples:  20\n",
      "no. of test samples:  30\n"
     ]
    }
   ],
   "source": [
    "print('no. of train samples: ', len(TRAIN_DATA))\n",
    "print('no. of val samples: ', len(VAL_DATA))\n",
    "print('no. of test samples: ', len(TEST_DATA))"
   ]
  },
  {
   "cell_type": "code",
   "execution_count": 113,
   "id": "d561a5b7",
   "metadata": {},
   "outputs": [],
   "source": [
    "import pandas as pd\n",
    "import os\n",
    "from tqdm import tqdm\n",
    "import spacy\n",
    "from spacy.tokens import DocBin\n",
    "\n",
    "#nlp = spacy.blank(\"en\") # load a new spacy model\n",
    "#nlp = spacy.load(\"en_core_web_sm\") # load other spacy model\n",
    "nlp = spacy.load('en_core_web_trf', exclude=['tagger', 'parser', 'attribute_ruler', 'lemmatizer'])\n",
    "#nlp = spacy.load('en_core_web_trf')\n",
    "\n",
    "def spacy_format(DATA, val_data):\n",
    "    db = DocBin() # create a DocBin object\n",
    "\n",
    "    for text, annot in tqdm(DATA): # data in previous format\n",
    "        doc = nlp.make_doc(text) # create doc object from text\n",
    "        ents = []\n",
    "        for start, end, label in annot[\"entities\"]: # add character indexes\n",
    "            span = doc.char_span(start, end, label=label, alignment_mode=\"contract\")\n",
    "            #print(span)\n",
    "            if span is None:\n",
    "                #print(\"Skipping entity\")\n",
    "                pass\n",
    "            else:\n",
    "                ents.append(span)\n",
    "        doc.ents = ents # label the text with the ents\n",
    "        db.add(doc)\n",
    "    \n",
    "    if val_data==False:\n",
    "        db.to_disk(\"./train.spacy\") # save the docbin object\n",
    "    else:\n",
    "        db.to_disk(\"./val.spacy\")"
   ]
  },
  {
   "cell_type": "code",
   "execution_count": 114,
   "id": "55ed9d52",
   "metadata": {},
   "outputs": [
    {
     "name": "stderr",
     "output_type": "stream",
     "text": [
      "100%|██████████| 80/80 [00:00<00:00, 232.20it/s]\n",
      "100%|██████████| 20/20 [00:00<00:00, 285.27it/s]\n"
     ]
    }
   ],
   "source": [
    "spacy_format(TRAIN_DATA, val_data=False)\n",
    "spacy_format(VAL_DATA, val_data=True)"
   ]
  },
  {
   "cell_type": "code",
   "execution_count": null,
   "id": "35584ab7",
   "metadata": {},
   "outputs": [],
   "source": []
  },
  {
   "cell_type": "code",
   "execution_count": 34,
   "id": "f52f74fe",
   "metadata": {},
   "outputs": [
    {
     "name": "stdout",
     "output_type": "stream",
     "text": [
      "/usr/bin/python: No module named spacy\r\n"
     ]
    }
   ],
   "source": [
    "!python -m spacy init fill-config ./base_config.cfg ./config.cfg"
   ]
  },
  {
   "cell_type": "code",
   "execution_count": null,
   "id": "b05e4d42",
   "metadata": {},
   "outputs": [],
   "source": [
    "!python -m spacy train config.cfg --output /mnt/spacy/ --paths.train ./train.spacy --paths.dev ./val.spacy --gpu-id 0"
   ]
  },
  {
   "cell_type": "code",
   "execution_count": null,
   "id": "dbdd841f",
   "metadata": {},
   "outputs": [],
   "source": [
    "ls"
   ]
  },
  {
   "cell_type": "markdown",
   "id": "43a0acd6",
   "metadata": {},
   "source": [
    "### EVALUATION"
   ]
  },
  {
   "cell_type": "code",
   "execution_count": 71,
   "id": "6f8b54d6",
   "metadata": {},
   "outputs": [],
   "source": [
    "import spacy\n",
    "from spacy.scorer import Scorer\n",
    "from spacy.tokens import Doc\n",
    "from spacy.training.example import Example\n",
    "\n",
    "def evaluate(ner_model, samples):\n",
    "    scorer = Scorer(ner_model)\n",
    "    examples = []\n",
    "    for input_, annot in samples:\n",
    "        pred = ner_model(input_)\n",
    "        example = Example.from_dict(pred, annot)\n",
    "        examples.append(example)\n",
    "    scores = scorer.score(examples)    \n",
    "    return scores"
   ]
  },
  {
   "cell_type": "code",
   "execution_count": 72,
   "id": "1ee3e555",
   "metadata": {},
   "outputs": [],
   "source": [
    "import numpy as np\n",
    "ner = spacy.load('/mnt/spacy/model-best')"
   ]
  },
  {
   "cell_type": "code",
   "execution_count": 73,
   "id": "11061c6a",
   "metadata": {},
   "outputs": [
    {
     "name": "stderr",
     "output_type": "stream",
     "text": [
      "/data/mmortgage/NERAPI/NER/lib/python3.8/site-packages/spacy/training/iob_utils.py:141: UserWarning: [W030] Some entities could not be aligned in the text \"Valley TAKE THE NEXT STEPS IN BECOMING A HOMEOWNER...\" with entities \"[(0, 6, 'ORG'), (224, 230, 'ORG'), (311, 317, 'ORG...\". Use `spacy.training.offsets_to_biluo_tags(nlp.make_doc(text), entities)` to check the alignment. Misaligned entities ('-') will be ignored during training.\n",
      "  warnings.warn(\n",
      "/data/mmortgage/NERAPI/NER/lib/python3.8/site-packages/spacy/training/iob_utils.py:141: UserWarning: [W030] Some entities could not be aligned in the text \"USAA® USAA Federal Savings Bank 10750 McDermott Fr...\" with entities \"[(6, 31, 'ORG'), (199, 213, 'PERSON'), (1008, 1022...\". Use `spacy.training.offsets_to_biluo_tags(nlp.make_doc(text), entities)` to check the alignment. Misaligned entities ('-') will be ignored during training.\n",
      "  warnings.warn(\n",
      "/data/mmortgage/NERAPI/NER/lib/python3.8/site-packages/spacy/training/iob_utils.py:141: UserWarning: [W030] Some entities could not be aligned in the text \"Premier HSBC P.O. Box 1393 Buffalo, NY 14240-1393 ...\" with entities \"[(8, 12, 'ORG'), (53, 57, 'ORG'), (72, 76, 'ORG'),...\". Use `spacy.training.offsets_to_biluo_tags(nlp.make_doc(text), entities)` to check the alignment. Misaligned entities ('-') will be ignored during training.\n",
      "  warnings.warn(\n",
      "/data/mmortgage/NERAPI/NER/lib/python3.8/site-packages/spacy/training/iob_utils.py:141: UserWarning: [W030] Some entities could not be aligned in the text \"P.O. Box 202020 512.435.4545 800.531.2328 UHCU Uni...\" with entities \"[(47, 75, 'ORG'), (87, 108, 'PERSON'), (108, 139, ...\". Use `spacy.training.offsets_to_biluo_tags(nlp.make_doc(text), entities)` to check the alignment. Misaligned entities ('-') will be ignored during training.\n",
      "  warnings.warn(\n",
      "/data/mmortgage/NERAPI/NER/lib/python3.8/site-packages/spacy/training/iob_utils.py:141: UserWarning: [W030] Some entities could not be aligned in the text \"novation *** * * Financial Solutions for 3Mers 500...\" with entities \"[(0, 9, 'ORG'), (104, 113, 'ORG'), (1420, 1429, 'O...\". Use `spacy.training.offsets_to_biluo_tags(nlp.make_doc(text), entities)` to check the alignment. Misaligned entities ('-') will be ignored during training.\n",
      "  warnings.warn(\n",
      "/data/mmortgage/NERAPI/NER/lib/python3.8/site-packages/spacy/training/iob_utils.py:141: UserWarning: [W030] Some entities could not be aligned in the text \"CHASE O JPMorgan Chase Bank, N.A. P O Box 182051 C...\" with entities \"[(8, 27, 'ORG'), (391, 409, 'PERSON'), (410, 442, ...\". Use `spacy.training.offsets_to_biluo_tags(nlp.make_doc(text), entities)` to check the alignment. Misaligned entities ('-') will be ignored during training.\n",
      "  warnings.warn(\n",
      "/data/mmortgage/NERAPI/NER/lib/python3.8/site-packages/spacy/training/iob_utils.py:141: UserWarning: [W030] Some entities could not be aligned in the text \"Ally Bank P.O. Box 70377 Philadelphia, PA 19176-03...\" with entities \"[(0, 9, 'ORG'), (1223, 1232, 'ORG'), (252, 267, 'P...\". Use `spacy.training.offsets_to_biluo_tags(nlp.make_doc(text), entities)` to check the alignment. Misaligned entities ('-') will be ignored during training.\n",
      "  warnings.warn(\n",
      "/data/mmortgage/NERAPI/NER/lib/python3.8/site-packages/spacy/training/iob_utils.py:141: UserWarning: [W030] Some entities could not be aligned in the text \"USAA® USAA Federal Savings Bank 10750 McDermott Fr...\" with entities \"[(6, 31, 'ORG'), (179, 194, 'PERSON'), (194, 211, ...\". Use `spacy.training.offsets_to_biluo_tags(nlp.make_doc(text), entities)` to check the alignment. Misaligned entities ('-') will be ignored during training.\n",
      "  warnings.warn(\n"
     ]
    },
    {
     "data": {
      "text/plain": [
       "{'token_acc': 1.0,\n",
       " 'token_p': 1.0,\n",
       " 'token_r': 1.0,\n",
       " 'token_f': 1.0,\n",
       " 'ents_p': 0.7982456140350878,\n",
       " 'ents_r': 0.6453900709219859,\n",
       " 'ents_f': 0.7137254901960784,\n",
       " 'ents_per_type': {'PERSON': {'p': 0.7678571428571429,\n",
       "   'r': 0.8431372549019608,\n",
       "   'f': 0.8037383177570093},\n",
       "  'ADDRESS': {'p': 0.7083333333333334,\n",
       "   'r': 0.7391304347826086,\n",
       "   'f': 0.723404255319149},\n",
       "  'ORG': {'p': 0.9117647058823529,\n",
       "   'r': 0.4626865671641791,\n",
       "   'f': 0.6138613861386137}}}"
      ]
     },
     "execution_count": 73,
     "metadata": {},
     "output_type": "execute_result"
    }
   ],
   "source": [
    "evaluate(ner, TEST_DATA)"
   ]
  },
  {
   "cell_type": "code",
   "execution_count": 92,
   "id": "bb37c567",
   "metadata": {},
   "outputs": [
    {
     "data": {
      "text/plain": [
       "('From:THE UPS STORE 9075632276 08/31/2022 12:31 #384 P.007/015 COPY STATEMENT OF ACCOUNT 4786073 ACCOUNT STATEMENT PERIOD FROM 07-15-22 THROUGH 08-14-22 PAGE 1 ALASKA USA FEDERAL CREDIT UNION PO Box 196613 Anchorage, Alaska 99519-6613 www.alaskausa.org EARNEST R CARTER JR PO BOX 212256 ANCHORAGE AK 99521-2256 - ACCOUNT SUMMARY DIVIDENDS WITHHOLDING SHARE ACCOUNTS PREVIOUS NEW YEAR-TO-DATE YEAR-TO-DATE BALANCE BALANCE 10 SHARE SAV 896.76 711.64 0.36 0.00 70 251.96 0.00 0.00 199.93 CONV CHEK TOTAL SHARE ACCOUNTS 911.57 EXPANDED TRANSACTION DESCRIPTION AMOUNT BALANCE PREVIOUS BALANCE 896.76 PAI ISO 239 W 4TH ST ANCHORAGE AK 83.00 - 813.76 5.01 - 808.75 WITHDRAWAL TRANSFER TO SHARE 70 112.83 - 695.92 WITHDRAWAL ULTRABRANCH-PC TRANSFER 200.00 - 495.92 TO SHARE 70 GREAT NORTHE-K13 2341 CINNABAR 392.92 103.00 - LOOP US 07-21 07-21 WITHDRAWAL AT ATM #005904 TO SHARE 70 53.00 - 2086.20 1100.00 - 339.92 2426.12 1326.12 07-26 07-27 07-27 07-26 WITHDRAWAL AT ATM #000000001787 07-26 DEPOSIT ACH SSA TREAS 310 07-27 WITHDRAWAL ULTRABRANCH-PC TRANSFER 100.00 - 1226.12 ALASKA USA 5600 DEBARR RD ANCHORAGE AK 07-28 WITHDRAWAL AT ATM #000000000349 07-28 70.23 - 200.00 1155.89 1355.89 07-29 08-01 07-29 WITHDRAWAL TRANSFER TO SHARE 70 1 DEPOSIT ACH DFAS-CLEVELAND TYPE: RET ALT DATA: DO SYMBOL 8522- RPA CO: DFAS-CLEVELAND TO SHARE 70 WITHDRAWAL AT ATM #000000004760 25.53 - 140.72 - 100.00 - 1330.36 1189.64 1089.64 08-02 WITHDRAWAL TRANSFER TO SHARE 70 08-02 WITHDRAWAL TRANSFER TO SHARE 70 08-02 08-02 08-02 08-02 ALASKA USA 7731 E NORTHERN LIGHTS ANCHORAGE AK PAI ISO 239 W 4TH ST ANCHORAGE AK 789.64 300.00 - 08-03 08-03 NEW BALANCE 78.00 - 711.64 711.64 08-11 08-11 WITHDRAWAL AT ATM #000000002363 DIVIDEND YEAR TO DATE 0.36 CONV CHEK - 70 BALANCES DURING THIS STATEMENT: DATE 07-19 07-23 07-28 08-01 08-02 08-06 BALANCE 157.21 513,84 129.65 4319.63 100.00 710.04 BALANCE 195.00 627.83 1189,65 4324.63 19.47 778.04 DATE 07-18 07-22 07-27 07-31 08-02 08-04 BALANCE 0.00 96.88 159.45 0.00 1884.26 1086.04 DATE 07-15 07-21 07-25 07-29 08-02 08-03 034-9108 SHARE SAV - 10 Effective Posted TRANSACTION DESCRIPTION 07-15 07-15 WITHDRAWAL AT ATM #000000001428 07-15 WITHDRAWAL TRANSFER TO SHARE 70 07-15 07-18 07-18 07-18 07-18 ANCHORAGE AK PAI ISO 239 W 4TH ST ANCHORAGE AK TYPE: XXSOC SEC CO: SSA TREAS 310 WITHDRAWAL ULTRABRANCH-PC TRANSFER',\n",
       " {'entities': [(159, 190, 'ORG'),\n",
       "   (252, 271, 'PERSON'),\n",
       "   (272, 309, 'ADDRESS')]})"
      ]
     },
     "execution_count": 92,
     "metadata": {},
     "output_type": "execute_result"
    }
   ],
   "source": [
    "TEST_DATA[13]"
   ]
  },
  {
   "cell_type": "code",
   "execution_count": 93,
   "id": "5803601a",
   "metadata": {},
   "outputs": [
    {
     "name": "stdout",
     "output_type": "stream",
     "text": [
      "ORG:  ALASKA USA FEDERAL CREDIT UNION\n",
      "PERSON:  EARNEST R CARTER JR\n"
     ]
    }
   ],
   "source": [
    "doc = ner(TEST_DATA[13][0])\n",
    "\n",
    "for ent in doc.ents:\n",
    "    if ent.label_ == 'ORG':\n",
    "        print(\"ORG: \",ent.text)\n",
    "    if ent.label_ == 'PERSON':\n",
    "        print(\"PERSON: \",ent.text)\n",
    "    if ent.label_ == 'ADDRESS':\n",
    "        print(\"ADDRESS: \",ent.text)"
   ]
  },
  {
   "cell_type": "code",
   "execution_count": 96,
   "id": "042560ab",
   "metadata": {},
   "outputs": [
    {
     "data": {
      "text/plain": [
       "'PO BOX 212256 ANCHORAGE AK 99521-2256'"
      ]
     },
     "execution_count": 96,
     "metadata": {},
     "output_type": "execute_result"
    }
   ],
   "source": [
    "txt = TEST_DATA[13][0]\n",
    "txt[272:309]"
   ]
  },
  {
   "cell_type": "code",
   "execution_count": null,
   "id": "518294b7",
   "metadata": {},
   "outputs": [],
   "source": []
  }
 ],
 "metadata": {
  "kernelspec": {
   "display_name": "NER",
   "language": "python",
   "name": "ner"
  },
  "language_info": {
   "codemirror_mode": {
    "name": "ipython",
    "version": 3
   },
   "file_extension": ".py",
   "mimetype": "text/x-python",
   "name": "python",
   "nbconvert_exporter": "python",
   "pygments_lexer": "ipython3",
   "version": "3.8.0"
  }
 },
 "nbformat": 4,
 "nbformat_minor": 5
}
