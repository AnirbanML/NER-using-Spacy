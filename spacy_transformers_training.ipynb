{
 "cells": [
  {
   "cell_type": "code",
   "execution_count": 1,
   "id": "944f7040",
   "metadata": {},
   "outputs": [
    {
     "name": "stderr",
     "output_type": "stream",
     "text": [
      "/data/mmortgage/NERAPI/NER/lib/python3.8/site-packages/tqdm/auto.py:22: TqdmWarning: IProgress not found. Please update jupyter and ipywidgets. See https://ipywidgets.readthedocs.io/en/stable/user_install.html\n",
      "  from .autonotebook import tqdm as notebook_tqdm\n"
     ]
    }
   ],
   "source": [
    "import spacy\n",
    "import json\n",
    "from spacy import displacy\n",
    "import re\n",
    "import pandas as pd\n",
    "from configparser import ConfigParser\n",
    "import string"
   ]
  },
  {
   "cell_type": "code",
   "execution_count": 12,
   "id": "a01b822c",
   "metadata": {},
   "outputs": [],
   "source": [
    "def get_annotation(file):\n",
    "    \n",
    "    filename,ents= file\n",
    "    #print(filename)\n",
    "    data = json.load(open('./OCR_Files/'+filename, encoding=\"utf-8\"))\n",
    "    txt = ''\n",
    "    annotations=[]\n",
    "    for pages in data['analyzeResult']['readResults']:\n",
    "        txt=''\n",
    "        for line in pages['lines']:\n",
    "            txt = txt+' '+line['text']\n",
    "        #print(txt,'\\n\\n')\n",
    "        para = txt\n",
    "        txt = txt.lower()\n",
    "        ner_tag = {}\n",
    "        tags=[]\n",
    "        for ent in ents:\n",
    "            txt2find,tag = ent\n",
    "            txt2find = txt2find.lower()\n",
    "            start=0\n",
    "            for i,character in enumerate(txt):\n",
    "                flag=0\n",
    "                temp=''\n",
    "                if character == txt2find[0]:\n",
    "                    start = i\n",
    "                    j=i\n",
    "                    k=0\n",
    "                    while((k<len(txt2find))&(j<len(txt)-1)):\n",
    "                        if(txt[j]==txt2find[k]):\n",
    "                            temp=temp+txt[j]\n",
    "                            j=j+1\n",
    "                            k=k+1\n",
    "                        elif(txt2find[k] in string.punctuation):\n",
    "                            k=k+1\n",
    "                        elif(txt[j] in string.punctuation):\n",
    "                            temp=temp+txt[j]\n",
    "                            j=j+1\n",
    "                        else:\n",
    "                            end=j\n",
    "                            break\n",
    "                if ((len(temp)>=len(txt2find))):\n",
    "                    tags.append((start, start+len(temp),tag))\n",
    "        if len(tags)!=0:\n",
    "            ner_tag['entities'] = tags\n",
    "            annotations.append((para,ner_tag))\n",
    "    return(annotations)"
   ]
  },
  {
   "cell_type": "code",
   "execution_count": 13,
   "id": "50862de9",
   "metadata": {},
   "outputs": [
    {
     "data": {
      "text/plain": [
       "2075"
      ]
     },
     "execution_count": 13,
     "metadata": {},
     "output_type": "execute_result"
    }
   ],
   "source": [
    "from ast import literal_eval\n",
    "annotations = []\n",
    "with open('./train_both.txt', 'r', encoding=\"utf-8\") as f:\n",
    "    data = f.read().split(',\\n')\n",
    "for d in data:\n",
    "    #print(literal_eval(d))\n",
    "    annotations.append(literal_eval(d))\n",
    "len(annotations)"
   ]
  },
  {
   "cell_type": "code",
   "execution_count": 14,
   "id": "50fc2b14",
   "metadata": {},
   "outputs": [
    {
     "data": {
      "text/plain": [
       "('ADR-2021-100000726690.txt',\n",
       " [('Benicia Unified School District - 001', 'ORG'),\n",
       "  ('YOLANDA M. VALDIVIA', 'PERSON')])"
      ]
     },
     "execution_count": 14,
     "metadata": {},
     "output_type": "execute_result"
    }
   ],
   "source": [
    "annotations[340]"
   ]
  },
  {
   "cell_type": "code",
   "execution_count": 15,
   "id": "4311df12",
   "metadata": {},
   "outputs": [
    {
     "name": "stdout",
     "output_type": "stream",
     "text": [
      "Total samples -> 4419\n",
      "Total no match found -> 24\n"
     ]
    }
   ],
   "source": [
    "SAMPLES = []\n",
    "length = []\n",
    "count = 0\n",
    "i=0\n",
    "for annot in annotations:\n",
    "    #print(i)\n",
    "    i=i+1\n",
    "    entities = []\n",
    "    for entries in annot[1]:\n",
    "        entities.append(entries[1])\n",
    "    entities = list(set(entities))\n",
    "    \n",
    "    try:\n",
    "        annotation = get_annotation(annot)\n",
    "        if len(annotation)!=0:\n",
    "            SAMPLES = SAMPLES + annotation\n",
    "        else:\n",
    "            count=count+1\n",
    "            #print(annot[0])\n",
    "    except FileNotFoundError:\n",
    "        pass\n",
    "print('Total samples ->', len(SAMPLES))\n",
    "print('Total no match found ->', count)"
   ]
  },
  {
   "cell_type": "markdown",
   "id": "5c311937",
   "metadata": {},
   "source": [
    "### Spacy input format"
   ]
  },
  {
   "cell_type": "code",
   "execution_count": 17,
   "id": "7cef390f",
   "metadata": {},
   "outputs": [
    {
     "data": {
      "text/plain": [
       "(' 04/30/2021 Randall A. Mangali 0.00 ***NON-NEGOTIABLE*** ****This is not a check. *****Advice of deposit only**** Randall A. Mangali 373 Pantano Cir MARTINEZ CA 94553-5638 EMPLOYER PAY PERIOD ASTRON TEL Period Beginning 04/12/2021 831-38 ROUTE 10 STE 236 Period Ending: 04/25/2021 WHIPPANY NJ 07981 Pay Date: 04/30/2021 973-975-4237 Total Hours: 58.00 EMPLOYEE Randall A. Mangali 373 Pantano Cir MARTINEZ CA 94553-5638 SS#: ...3949 NET PAY: $3,041.70 Acct#....2179: $3,041.70 MEMO: PAY Hours Rate Current YTD DEDUCTIONS Current YTD HOURLy 1 18.00 42.00 756.00 18,900.00 Regular Pay 40.00 21.00 840.00 14,280.00 EXP REIMB 680.40 10,101.46 - - Nontaxable Per Diem 920.00 15,640.00 - - TAXES Current YTD Federal Income Tax 13.45 2,403.92 SUMMARY Current YTD Social Security 98.95 2,057.16 Medicare 23.14 481.11 Total Pay $3,196.40 $58,921.46 CA Income Tax Taxes $154.70 $6,269.85 0.00 929.50 CA State Disability Ins 19.16 398.16 Deductions $0.00 $0.00 Net Pay $3,041.70',\n",
       " {'entities': [(192, 202, 'ORG'),\n",
       "   (12, 30, 'PERSON'),\n",
       "   (114, 132, 'PERSON'),\n",
       "   (361, 379, 'PERSON')]})"
      ]
     },
     "execution_count": 17,
     "metadata": {},
     "output_type": "execute_result"
    }
   ],
   "source": [
    "SAMPLES[0]"
   ]
  },
  {
   "cell_type": "markdown",
   "id": "2e9ee5a2",
   "metadata": {},
   "source": [
    "### TRAIN TEST SPLIT ***"
   ]
  },
  {
   "cell_type": "code",
   "execution_count": 18,
   "id": "ae98a86f",
   "metadata": {},
   "outputs": [],
   "source": [
    "import random\n",
    "random.shuffle(SAMPLES)"
   ]
  },
  {
   "cell_type": "code",
   "execution_count": 19,
   "id": "47d8c603",
   "metadata": {},
   "outputs": [],
   "source": [
    "TRAIN_DATA = SAMPLES[:10000]\n",
    "VAL_DATA = SAMPLES[10000:12295]\n",
    "TEST_DATA = SAMPLES[12295:12396]"
   ]
  },
  {
   "cell_type": "code",
   "execution_count": 20,
   "id": "e8547f61",
   "metadata": {},
   "outputs": [
    {
     "name": "stdout",
     "output_type": "stream",
     "text": [
      "no. of train samples:  4419\n",
      "no. of val samples:  0\n",
      "no. of test samples:  0\n"
     ]
    }
   ],
   "source": [
    "print('no. of train samples: ', len(TRAIN_DATA))\n",
    "print('no. of val samples: ', len(VAL_DATA))\n",
    "print('no. of test samples: ', len(TEST_DATA))"
   ]
  },
  {
   "cell_type": "code",
   "execution_count": 13,
   "id": "d561a5b7",
   "metadata": {},
   "outputs": [],
   "source": [
    "import pandas as pd\n",
    "import os\n",
    "from tqdm import tqdm\n",
    "import spacy\n",
    "from spacy.tokens import DocBin\n",
    "\n",
    "#nlp = spacy.blank(\"en\") # load a new spacy model\n",
    "#nlp = spacy.load(\"en_core_web_sm\") # load other spacy model\n",
    "nlp = spacy.load('en_core_web_trf', exclude=['tagger', 'parser', 'attribute_ruler', 'lemmatizer'])\n",
    "#nlp = spacy.load('en_core_web_trf')\n",
    "\n",
    "def spacy_format(DATA, val_data):\n",
    "    db = DocBin() # create a DocBin object\n",
    "\n",
    "    for text, annot in tqdm(DATA): # data in previous format\n",
    "        doc = nlp.make_doc(text) # create doc object from text\n",
    "        ents = []\n",
    "        for start, end, label in annot[\"entities\"]: # add character indexes\n",
    "            span = doc.char_span(start, end, label=label, alignment_mode=\"contract\")\n",
    "            #print(span)\n",
    "            if span is None:\n",
    "                #print(\"Skipping entity\")\n",
    "                pass\n",
    "            else:\n",
    "                ents.append(span)\n",
    "        doc.ents = ents # label the text with the ents\n",
    "        db.add(doc)\n",
    "    \n",
    "    if val_data==False:\n",
    "        db.to_disk(\"./train.spacy\") # save the docbin object\n",
    "    else:\n",
    "        db.to_disk(\"./val.spacy\")"
   ]
  },
  {
   "cell_type": "code",
   "execution_count": 14,
   "id": "55ed9d52",
   "metadata": {},
   "outputs": [
    {
     "name": "stderr",
     "output_type": "stream",
     "text": [
      "100%|██████████| 10000/10000 [01:08<00:00, 145.43it/s]\n",
      "100%|██████████| 2295/2295 [00:15<00:00, 150.68it/s]\n"
     ]
    }
   ],
   "source": [
    "spacy_format(TRAIN_DATA, val_data=False)\n",
    "spacy_format(VAL_DATA, val_data=True)"
   ]
  },
  {
   "cell_type": "code",
   "execution_count": null,
   "id": "35584ab7",
   "metadata": {},
   "outputs": [],
   "source": []
  },
  {
   "cell_type": "code",
   "execution_count": 47,
   "id": "f52f74fe",
   "metadata": {},
   "outputs": [
    {
     "name": "stdout",
     "output_type": "stream",
     "text": [
      "/usr/bin/python: No module named spacy\r\n"
     ]
    }
   ],
   "source": [
    "!python -m spacy init fill-config ./base_config.cfg ./config.cfg"
   ]
  },
  {
   "cell_type": "code",
   "execution_count": null,
   "id": "b05e4d42",
   "metadata": {},
   "outputs": [],
   "source": [
    "!python -m spacy train config.cfg --output /mnt/spacy/ --paths.train ./train.spacy --paths.dev ./val.spacy --gpu-id 0"
   ]
  },
  {
   "cell_type": "code",
   "execution_count": null,
   "id": "dbdd841f",
   "metadata": {},
   "outputs": [],
   "source": [
    "ls"
   ]
  },
  {
   "cell_type": "markdown",
   "id": "43a0acd6",
   "metadata": {},
   "source": [
    "### EVALUATION"
   ]
  },
  {
   "cell_type": "code",
   "execution_count": 96,
   "id": "6f8b54d6",
   "metadata": {},
   "outputs": [],
   "source": [
    "import spacy\n",
    "from spacy.scorer import Scorer\n",
    "from spacy.tokens import Doc\n",
    "from spacy.training.example import Example\n",
    "\n",
    "def evaluate(ner_model, samples):\n",
    "    scorer = Scorer(ner_model)\n",
    "    examples = []\n",
    "    for input_, annot in samples:\n",
    "        pred = ner_model(input_)\n",
    "        example = Example.from_dict(pred, annot)\n",
    "        examples.append(example)\n",
    "    scores = scorer.score(examples)    \n",
    "    return scores"
   ]
  },
  {
   "cell_type": "code",
   "execution_count": 98,
   "id": "1ee3e555",
   "metadata": {},
   "outputs": [],
   "source": [
    "import numpy as np\n",
    "ner = spacy.load('/mnt/spacy/model-last')"
   ]
  },
  {
   "cell_type": "code",
   "execution_count": 99,
   "id": "11061c6a",
   "metadata": {},
   "outputs": [
    {
     "data": {
      "text/plain": [
       "{'token_acc': 1.0,\n",
       " 'token_p': 1.0,\n",
       " 'token_r': 1.0,\n",
       " 'token_f': 1.0,\n",
       " 'ents_p': 0.8546511627906976,\n",
       " 'ents_r': 0.91875,\n",
       " 'ents_f': 0.8855421686746987,\n",
       " 'ents_per_type': {'ORG': {'p': 0.8070175438596491,\n",
       "   'r': 0.8932038834951457,\n",
       "   'f': 0.847926267281106},\n",
       "  'PERSON': {'p': 0.9482758620689655,\n",
       "   'r': 0.9649122807017544,\n",
       "   'f': 0.9565217391304347}}}"
      ]
     },
     "execution_count": 99,
     "metadata": {},
     "output_type": "execute_result"
    }
   ],
   "source": [
    "evaluate(ner, TEST_DATA)"
   ]
  },
  {
   "cell_type": "code",
   "execution_count": null,
   "id": "bb37c567",
   "metadata": {},
   "outputs": [],
   "source": []
  }
 ],
 "metadata": {
  "kernelspec": {
   "display_name": "NER",
   "language": "python",
   "name": "ner"
  },
  "language_info": {
   "codemirror_mode": {
    "name": "ipython",
    "version": 3
   },
   "file_extension": ".py",
   "mimetype": "text/x-python",
   "name": "python",
   "nbconvert_exporter": "python",
   "pygments_lexer": "ipython3",
   "version": "3.8.0"
  }
 },
 "nbformat": 4,
 "nbformat_minor": 5
}
